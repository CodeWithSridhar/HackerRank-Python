{
  "nbformat": 4,
  "nbformat_minor": 0,
  "metadata": {
    "colab": {
      "name": "Percentage.ipynb",
      "provenance": [],
      "collapsed_sections": [],
      "authorship_tag": "ABX9TyOzuFDudligQOYQrZqZ6QND",
      "include_colab_link": true
    },
    "kernelspec": {
      "name": "python3",
      "display_name": "Python 3"
    },
    "language_info": {
      "name": "python"
    }
  },
  "cells": [
    {
      "cell_type": "markdown",
      "metadata": {
        "id": "view-in-github",
        "colab_type": "text"
      },
      "source": [
        "<a href=\"https://colab.research.google.com/github/CodeWithSridhar/Hacker_Rank/blob/master/Percentage.ipynb\" target=\"_parent\"><img src=\"https://colab.research.google.com/assets/colab-badge.svg\" alt=\"Open In Colab\"/></a>"
      ]
    },
    {
      "cell_type": "code",
      "metadata": {
        "colab": {
          "base_uri": "https://localhost:8080/"
        },
        "id": "wf8146Vb6ZJ3",
        "outputId": "e0e7f3d9-9802-445b-d29f-4523ce771dce"
      },
      "source": [
        "if __name__ == '__main__':\n",
        "    n = int(input())\n",
        "    student_marks = {}\n",
        "    for _ in range(n):\n",
        "        name, *line = input().split()\n",
        "        scores = list(map(float, line))\n",
        "        student_marks[name] = scores\n",
        "    query_name = input()\n",
        "    for i in student_marks:\n",
        "        j = student_marks.get(i)\n",
        "        if i==query_name:\n",
        "            result = 0\n",
        "            for k in j:\n",
        "                result+= float(k)\n",
        "            print(\"{:.2f}\".format((result/len(j))))\n",
        "            break\n",
        "        else:\n",
        "            continue\n"
      ],
      "execution_count": null,
      "outputs": [
        {
          "output_type": "stream",
          "text": [
            "56\n",
            "49\n",
            "86\n",
            "78\n",
            "79\n",
            "85\n",
            "78\n",
            "48\n",
            "48\n",
            "89\n",
            "79\n",
            "86\n",
            "59\n",
            "49\n",
            "5\n",
            "69\n",
            "945\n",
            "56\n",
            "5\n",
            "56\n",
            "55\n",
            "236\n"
          ],
          "name": "stdout"
        }
      ]
    }
  ]
}