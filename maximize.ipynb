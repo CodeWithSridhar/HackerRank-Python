{
  "nbformat": 4,
  "nbformat_minor": 0,
  "metadata": {
    "colab": {
      "name": "maximize.ipynb",
      "provenance": [],
      "authorship_tag": "ABX9TyNCl53vfoZ+6D7phbbEFO3u",
      "include_colab_link": true
    },
    "kernelspec": {
      "name": "python3",
      "display_name": "Python 3"
    },
    "language_info": {
      "name": "python"
    }
  },
  "cells": [
    {
      "cell_type": "markdown",
      "metadata": {
        "id": "view-in-github",
        "colab_type": "text"
      },
      "source": [
        "<a href=\"https://colab.research.google.com/github/CodeWithSridhar/Hacker_Rank/blob/master/maximize.ipynb\" target=\"_parent\"><img src=\"https://colab.research.google.com/assets/colab-badge.svg\" alt=\"Open In Colab\"/></a>"
      ]
    },
    {
      "cell_type": "code",
      "metadata": {
        "id": "dhq8tx3wUD_7"
      },
      "source": [
        "from itertools import product\n",
        "K,M = map(int,input().split())\n",
        "nums = []\n",
        "for _ in range(K):\n",
        "    row = map(int,input().split()[1:])\n",
        "    nums.append(map(lambda x:x**2%M, row))\n",
        "print(max(map(lambda x: sum(x)%M, product(*nums))))"
      ],
      "execution_count": null,
      "outputs": []
    }
  ]
}