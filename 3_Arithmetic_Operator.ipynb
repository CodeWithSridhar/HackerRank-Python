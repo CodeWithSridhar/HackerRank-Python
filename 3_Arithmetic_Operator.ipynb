{
  "nbformat": 4,
  "nbformat_minor": 0,
  "metadata": {
    "colab": {
      "name": "3_Arithmetic_Operator.ipynb",
      "provenance": [],
      "authorship_tag": "ABX9TyMyRlKZljzdWW/kBSFxnfvJ",
      "include_colab_link": true
    },
    "kernelspec": {
      "name": "python3",
      "display_name": "Python 3"
    },
    "language_info": {
      "name": "python"
    }
  },
  "cells": [
    {
      "cell_type": "markdown",
      "metadata": {
        "id": "view-in-github",
        "colab_type": "text"
      },
      "source": [
        "<a href=\"https://colab.research.google.com/github/CodeWithSridhar/Hacker_Rank/blob/master/3_Arithmetic_Operator.ipynb\" target=\"_parent\"><img src=\"https://colab.research.google.com/assets/colab-badge.svg\" alt=\"Open In Colab\"/></a>"
      ]
    },
    {
      "cell_type": "code",
      "metadata": {
        "id": "Sp8PC1P-sjU4"
      },
      "source": [
        "a = int(input())\n",
        "b = int(input())\n",
        "\n",
        "addition = a+b\n",
        "subtraction = a-b\n",
        "multiplication = a*b\n",
        "\n",
        "print(addition)\n",
        "print(subtraction)\n",
        "print(multiplication)"
      ],
      "execution_count": null,
      "outputs": []
    }
  ]
}