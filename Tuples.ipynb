{
  "nbformat": 4,
  "nbformat_minor": 0,
  "metadata": {
    "colab": {
      "name": "Tuples.ipynb",
      "provenance": [],
      "authorship_tag": "ABX9TyM02wWiZ1a1QDmpbjbxzZY1",
      "include_colab_link": true
    },
    "kernelspec": {
      "name": "python3",
      "display_name": "Python 3"
    },
    "language_info": {
      "name": "python"
    }
  },
  "cells": [
    {
      "cell_type": "markdown",
      "metadata": {
        "id": "view-in-github",
        "colab_type": "text"
      },
      "source": [
        "<a href=\"https://colab.research.google.com/github/CodeWithSridhar/Hacker_Rank/blob/master/Tuples.ipynb\" target=\"_parent\"><img src=\"https://colab.research.google.com/assets/colab-badge.svg\" alt=\"Open In Colab\"/></a>"
      ]
    },
    {
      "cell_type": "code",
      "metadata": {
        "colab": {
          "base_uri": "https://localhost:8080/"
        },
        "id": "q9-9HfkbmAKu",
        "outputId": "bce7d734-d843-454a-f0f4-78f911899cd7"
      },
      "source": [
        "if __name__ == '__main__':\n",
        "    n = int(input())\n",
        "    t = tuple(map(int, input().split()))\n",
        "    print(hash(t))"
      ],
      "execution_count": 1,
      "outputs": [
        {
          "output_type": "stream",
          "text": [
            "2\n",
            "1 2\n",
            "3713081631934410656\n"
          ],
          "name": "stdout"
        }
      ]
    }
  ]
}