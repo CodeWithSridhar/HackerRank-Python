{
  "nbformat": 4,
  "nbformat_minor": 0,
  "metadata": {
    "colab": {
      "name": "Capitalize!.ipynb",
      "provenance": [],
      "authorship_tag": "ABX9TyPZf7bjPMWTTQILjTVB7kWt",
      "include_colab_link": true
    },
    "kernelspec": {
      "name": "python3",
      "display_name": "Python 3"
    },
    "language_info": {
      "name": "python"
    }
  },
  "cells": [
    {
      "cell_type": "markdown",
      "metadata": {
        "id": "view-in-github",
        "colab_type": "text"
      },
      "source": [
        "<a href=\"https://colab.research.google.com/github/CodeWithSridhar/Hacker_Rank/blob/master/Capitalize!.ipynb\" target=\"_parent\"><img src=\"https://colab.research.google.com/assets/colab-badge.svg\" alt=\"Open In Colab\"/></a>"
      ]
    },
    {
      "cell_type": "markdown",
      "metadata": {
        "id": "Tydzw3mj-k3i"
      },
      "source": [
        "You are asked to ensure that the first and last names of people begin with a capital letter in their passports. For example, alison heck should be capitalised correctly as Alison Heck.\n",
        "\n",
        "Given a full name, your task is to capitalize the name appropriately.\n",
        "\n",
        "Input Format\n",
        "\n",
        "A single line of input containing the full name,\n",
        "\n",
        ".\n",
        "\n",
        "Constraints\n",
        "\n",
        "    The string consists of alphanumeric characters and spaces.\n",
        "\n",
        "Note: in a word only the first character is capitalized. Example 12abc when capitalized remains 12abc.\n",
        "\n",
        "Output Format\n",
        "\n",
        "Print the capitalized string,\n",
        "\n",
        ".\n",
        "\n",
        "Sample Input\n",
        "\n",
        "chris alan\n",
        "\n",
        "Sample Output\n",
        "\n",
        "Chris Alan\n"
      ]
    },
    {
      "cell_type": "code",
      "metadata": {
        "id": "QFMsRnmw-dkA"
      },
      "source": [
        "import string\n",
        "# Complete the solve function below.\n",
        "def solve(s):\n",
        "    l = s.split(\" \")\n",
        "    s=''\n",
        "    for i in l:\n",
        "        s = s+ i.capitalize()+' '\n",
        "    \n",
        "    return s"
      ],
      "execution_count": 1,
      "outputs": []
    }
  ]
}