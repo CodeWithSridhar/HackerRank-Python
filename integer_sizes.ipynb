{
  "nbformat": 4,
  "nbformat_minor": 0,
  "metadata": {
    "colab": {
      "name": "integer sizes.ipynb",
      "provenance": [],
      "authorship_tag": "ABX9TyOKRgcLOqejYYyu4p1CyqGn",
      "include_colab_link": true
    },
    "kernelspec": {
      "name": "python3",
      "display_name": "Python 3"
    },
    "language_info": {
      "name": "python"
    }
  },
  "cells": [
    {
      "cell_type": "markdown",
      "metadata": {
        "id": "view-in-github",
        "colab_type": "text"
      },
      "source": [
        "<a href=\"https://colab.research.google.com/github/CodeWithSridhar/Hacker_Rank/blob/master/integer_sizes.ipynb\" target=\"_parent\"><img src=\"https://colab.research.google.com/assets/colab-badge.svg\" alt=\"Open In Colab\"/></a>"
      ]
    },
    {
      "cell_type": "code",
      "metadata": {
        "colab": {
          "base_uri": "https://localhost:8080/"
        },
        "id": "bIQmaTNMmM8a",
        "outputId": "3b8ecf37-d327-4204-9c1a-68a33c45f98f"
      },
      "source": [
        "a = int(input(\"\"))\n",
        "b = int(input(\"\"))\n",
        "c = int(input(\"\"))\n",
        "d = int(input(\"\"))\n",
        "print(a**b+c**d)"
      ],
      "execution_count": 1,
      "outputs": [
        {
          "output_type": "stream",
          "text": [
            "5\n",
            "6\n",
            "9\n",
            "10\n",
            "3486800026\n"
          ],
          "name": "stdout"
        }
      ]
    }
  ]
}