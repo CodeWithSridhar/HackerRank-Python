{
  "nbformat": 4,
  "nbformat_minor": 0,
  "metadata": {
    "colab": {
      "name": "zipped.ipynb",
      "provenance": [],
      "authorship_tag": "ABX9TyNRTf77EXI4iuev3tjrs/0E",
      "include_colab_link": true
    },
    "kernelspec": {
      "name": "python3",
      "display_name": "Python 3"
    },
    "language_info": {
      "name": "python"
    }
  },
  "cells": [
    {
      "cell_type": "markdown",
      "metadata": {
        "id": "view-in-github",
        "colab_type": "text"
      },
      "source": [
        "<a href=\"https://colab.research.google.com/github/CodeWithSridhar/Hacker_Rank/blob/master/zipped.ipynb\" target=\"_parent\"><img src=\"https://colab.research.google.com/assets/colab-badge.svg\" alt=\"Open In Colab\"/></a>"
      ]
    },
    {
      "cell_type": "code",
      "metadata": {
        "id": "u2I82wwI6ScT"
      },
      "source": [
        "No_Of_Students , X = map(int,input(\"\").split(\" \"))\n",
        "final_list=[]\n",
        "for i in range(X):\n",
        "    lst = [float(x) for x in input(\"\").split(\" \")]\n",
        "    final_list.append(lst)\n",
        "for i in zip(*final_list):\n",
        "    print((sum(i)/len(i)))"
      ],
      "execution_count": null,
      "outputs": []
    }
  ]
}