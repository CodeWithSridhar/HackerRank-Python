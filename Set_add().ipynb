{
  "nbformat": 4,
  "nbformat_minor": 0,
  "metadata": {
    "colab": {
      "name": "Set_add().ipynb",
      "provenance": [],
      "authorship_tag": "ABX9TyM7p+jU8DUOxLX5jsbIf5fN",
      "include_colab_link": true
    },
    "kernelspec": {
      "name": "python3",
      "display_name": "Python 3"
    },
    "language_info": {
      "name": "python"
    }
  },
  "cells": [
    {
      "cell_type": "markdown",
      "metadata": {
        "id": "view-in-github",
        "colab_type": "text"
      },
      "source": [
        "<a href=\"https://colab.research.google.com/github/CodeWithSridhar/Hacker_Rank/blob/master/Set_add().ipynb\" target=\"_parent\"><img src=\"https://colab.research.google.com/assets/colab-badge.svg\" alt=\"Open In Colab\"/></a>"
      ]
    },
    {
      "cell_type": "code",
      "metadata": {
        "id": "02p4UDG4A_Vt"
      },
      "source": [
        "n=int(input(\"\"))\n",
        "s = set()\n",
        "for i in range(n):\n",
        "    m=input(\"\")\n",
        "    s.add(m)\n",
        "\n",
        "print(len(s))"
      ],
      "execution_count": null,
      "outputs": []
    }
  ]
}